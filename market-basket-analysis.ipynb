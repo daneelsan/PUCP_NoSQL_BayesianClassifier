{
 "cells": [
  {
   "cell_type": "code",
   "execution_count": 10,
   "metadata": {},
   "outputs": [],
   "source": [
    "import pandas as pd\n",
    "import ast\n",
    "import os\n",
    "from pymongo import MongoClient\n",
    "from pymongo.errors import BulkWriteError\n",
    "import ipywidgets as widgets\n",
    "from IPython.display import display, clear_output\n",
    "import re\n",
    "\n",
    "# Al inicio de la celda 1, después de las importaciones\n",
    "if 'widgets_initialized' not in globals():\n",
    "    globals()['widgets_initialized'] = True\n",
    "    # ... resto del código de widgets\n",
    "else:\n",
    "    print(\"⚠️ Widgets ya inicializados. Usa 'del widgets_initialized' para reinicializar.\")\n",
    "\n",
    "# Conexión MongoDB\n",
    "client = MongoClient(os.environ[\"ATLASMONGODB_CONNECTION_STRING\"])\n",
    "\n",
    "# Colecciones\n",
    "db = client[\"fraud_db\"]\n",
    "collection = db[\"transactions\"]\n",
    "productos_col = db[\"productos\"]  # nueva colección para maestro\n",
    "\n",
    "def clean_widget_callbacks(widget):\n",
    "    \"\"\"Limpia todos los callbacks de un widget\"\"\"\n",
    "    if hasattr(widget, '_click_handlers'):\n",
    "        widget._click_handlers.callbacks.clear()\n",
    "    if hasattr(widget, '_observe_callbacks'):\n",
    "        widget._observe_callbacks.clear()\n",
    "\n",
    "# ---------------- Widgets de carga ----------------\n",
    "file_picker = widgets.FileUpload(accept='.xlsx', multiple=False)\n",
    "ruta_textbox = widgets.Text(value='', description='Archivo:', disabled=True)\n",
    "btn_subir = widgets.Button(description=\"Subir a MongoDB\", button_style='success')\n",
    "progress = widgets.IntProgress(value=0, min=0, max=100, description='Progreso:')\n",
    "output = widgets.Output()\n",
    "\n",
    "# ---------------- Widgets de análisis ----------------\n",
    "btn_generar_maestro = widgets.Button(description=\"Generar Maestro\", button_style='info')\n",
    "btn_calcular_top = widgets.Button(description=\"Top Productos Vendidos\", button_style='warning')\n",
    "maestro_output = widgets.Output()\n",
    "\n",
    "# ---------------- Eventos de carga ----------------\n",
    "def on_file_selected(change):\n",
    "    with output:\n",
    "        output.clear_output()\n",
    "        if file_picker.value:\n",
    "            nombre_archivo = file_picker.value[0]['name']\n",
    "            ruta_textbox.value = nombre_archivo\n",
    "\n",
    "# Limpiar callbacks anteriores antes de asignar nuevos\n",
    "clean_widget_callbacks(file_picker)\n",
    "file_picker.observe(on_file_selected, names='value')\n",
    "\n",
    "def on_subir_clicked(b):\n",
    "    with output:\n",
    "        output.clear_output()\n",
    "\n",
    "        if not file_picker.value:\n",
    "            print(\"⚠️ Por favor selecciona un archivo .xlsx.\")\n",
    "            return\n",
    "\n",
    "        uploaded_file = file_picker.value[0]\n",
    "        contenido = uploaded_file['content']\n",
    "        nombre_archivo = uploaded_file['name']\n",
    "        with open(\"temp.xlsx\", \"wb\") as f:\n",
    "            f.write(contenido)\n",
    "\n",
    "        df = pd.read_excel(\"temp.xlsx\", engine=\"openpyxl\")\n",
    "        df['ITEM'] = df['ITEM'].apply(lambda x: ast.literal_eval(x) if isinstance(x, str) else x)\n",
    "        df = df.rename(columns={'ID_Transaccion': '_id', 'ITEM': 'items'})\n",
    "        registros = df.to_dict(orient=\"records\")\n",
    "\n",
    "        batch_size = 100\n",
    "        total = len(registros)\n",
    "        progress.max = total\n",
    "        progress.value = 0\n",
    "        insertados = 0\n",
    "\n",
    "        for i in range(0, total, batch_size):\n",
    "            batch = registros[i:i+batch_size]\n",
    "            try:\n",
    "                res = collection.insert_many(batch, ordered=False)\n",
    "                insertados += len(res.inserted_ids)\n",
    "            except BulkWriteError as bwe:\n",
    "                errores = bwe.details.get(\"writeErrors\", [])\n",
    "                insertados += len(batch) - len(errores)\n",
    "            progress.value = min(i + batch_size, total)\n",
    "\n",
    "        print(f\"✅ Procesados: {total} registros\")\n",
    "        print(f\"📥 Insertados exitosamente: {insertados} registros (omitidos duplicados si hubo)\")\n",
    "\n",
    "# Limpiar callbacks anteriores antes de asignar nuevos\n",
    "clean_widget_callbacks(btn_subir)\n",
    "btn_subir.on_click(on_subir_clicked)\n",
    "\n",
    "# ---------------- Maestro de productos ----------------\n",
    "def on_generar_maestro(b):\n",
    "    with maestro_output:\n",
    "        maestro_output.clear_output()\n",
    "        print(\"🔄 Generando maestro de productos...\")\n",
    "        \n",
    "        transacciones = list(collection.find({}, {\"_id\": 0, \"items\": 1}))\n",
    "        items_flat = [item.strip() for t in transacciones for item in t['items']]\n",
    "        unique_items = sorted(set(items_flat))\n",
    "\n",
    "        productos = []\n",
    "        for item in unique_items:\n",
    "            match = re.match(r\"(.+?)_(\\d+)$\", item.strip())\n",
    "            if match:\n",
    "                nombre, codigo = match.groups()\n",
    "                categoria = nombre.strip()\n",
    "            else:\n",
    "                nombre = item.strip()\n",
    "                codigo = \"NA\"\n",
    "                categoria = \"otros\"\n",
    "            productos.append({\n",
    "                \"codigo\": codigo,\n",
    "                \"nombre\": item.strip(),\n",
    "                \"categoria\": categoria\n",
    "            })\n",
    "\n",
    "        productos_col.delete_many({})\n",
    "        productos_col.insert_many(productos)\n",
    "\n",
    "        print(f\"🎉 Maestro generado con {len(productos)} productos distintos.\")\n",
    "        df_prod = pd.DataFrame(productos)\n",
    "        display(df_prod.groupby(\"categoria\")[\"nombre\"].count().reset_index(name='cantidad'))\n",
    "\n",
    "# Limpiar callbacks anteriores antes de asignar nuevos\n",
    "clean_widget_callbacks(btn_generar_maestro)\n",
    "btn_generar_maestro.on_click(on_generar_maestro)\n",
    "\n",
    "# ---------------- Top productos ----------------\n",
    "def on_calcular_top(b):\n",
    "    with maestro_output:\n",
    "        maestro_output.clear_output()\n",
    "        print(\"🔄 Calculando top productos...\")\n",
    "        \n",
    "        transacciones = list(collection.find({}, {\"_id\": 0, \"items\": 1}))\n",
    "        items_flat = [item.strip() for t in transacciones for item in t['items']]\n",
    "        top = pd.Series(items_flat).value_counts().head(10)\n",
    "\n",
    "        print(\"🏆 Top 10 productos más vendidos:\")\n",
    "        display(top.reset_index().rename(columns={'index': 'Producto', 0: 'Cantidad'}))\n",
    "\n",
    "# Limpiar callbacks anteriores antes de asignar nuevos\n",
    "clean_widget_callbacks(btn_calcular_top)\n",
    "btn_calcular_top.on_click(on_calcular_top)"
   ]
  },
  {
   "cell_type": "code",
   "execution_count": 9,
   "metadata": {},
   "outputs": [
    {
     "data": {
      "application/vnd.jupyter.widget-view+json": {
       "model_id": "ce70a49556234622a374cbd8c7e8993e",
       "version_major": 2,
       "version_minor": 0
      },
      "text/plain": [
       "HTML(value='<h3>📤 Subir archivo Excel de transacciones</h3>')"
      ]
     },
     "metadata": {},
     "output_type": "display_data"
    },
    {
     "data": {
      "application/vnd.jupyter.widget-view+json": {
       "model_id": "258eba89671d43e6b41c907d6776a6d0",
       "version_major": 2,
       "version_minor": 0
      },
      "text/plain": [
       "FileUpload(value=(), accept='.xlsx', description='Upload')"
      ]
     },
     "metadata": {},
     "output_type": "display_data"
    },
    {
     "data": {
      "application/vnd.jupyter.widget-view+json": {
       "model_id": "a19466af9f6b4ba1a5a5afa50d4423d1",
       "version_major": 2,
       "version_minor": 0
      },
      "text/plain": [
       "Text(value='', description='Archivo:', disabled=True)"
      ]
     },
     "metadata": {},
     "output_type": "display_data"
    },
    {
     "data": {
      "application/vnd.jupyter.widget-view+json": {
       "model_id": "50c886fd3a67404694ef742b5746e27a",
       "version_major": 2,
       "version_minor": 0
      },
      "text/plain": [
       "Button(button_style='success', description='Subir a MongoDB', style=ButtonStyle())"
      ]
     },
     "metadata": {},
     "output_type": "display_data"
    },
    {
     "data": {
      "application/vnd.jupyter.widget-view+json": {
       "model_id": "9fe1784409d147db9d68b7f2be3d2818",
       "version_major": 2,
       "version_minor": 0
      },
      "text/plain": [
       "IntProgress(value=0, description='Progreso:')"
      ]
     },
     "metadata": {},
     "output_type": "display_data"
    },
    {
     "data": {
      "application/vnd.jupyter.widget-view+json": {
       "model_id": "db5c35ed6e0845be87e6b09fa1f18a6c",
       "version_major": 2,
       "version_minor": 0
      },
      "text/plain": [
       "Output()"
      ]
     },
     "metadata": {},
     "output_type": "display_data"
    },
    {
     "data": {
      "application/vnd.jupyter.widget-view+json": {
       "model_id": "eb8e59760e164ce2a8a125180ac758ad",
       "version_major": 2,
       "version_minor": 0
      },
      "text/plain": [
       "HTML(value='<h3>🛒 Maestro y Análisis Exploratorio</h3>')"
      ]
     },
     "metadata": {},
     "output_type": "display_data"
    },
    {
     "data": {
      "application/vnd.jupyter.widget-view+json": {
       "model_id": "253bb8fdc119400789b6626a24b5b02b",
       "version_major": 2,
       "version_minor": 0
      },
      "text/plain": [
       "HBox(children=(Button(button_style='info', description='Generar Maestro', style=ButtonStyle()), Button(button_…"
      ]
     },
     "metadata": {},
     "output_type": "display_data"
    },
    {
     "data": {
      "application/vnd.jupyter.widget-view+json": {
       "model_id": "6f189c58bd8c4c618ec2a40ffa2f45a3",
       "version_major": 2,
       "version_minor": 0
      },
      "text/plain": [
       "Output()"
      ]
     },
     "metadata": {},
     "output_type": "display_data"
    }
   ],
   "source": [
    "# ---------------- Mostrar interfaz ----------------\n",
    "display(widgets.HTML(\"<h3>📤 Subir archivo Excel de transacciones</h3>\"))\n",
    "display(file_picker)\n",
    "display(ruta_textbox)\n",
    "display(btn_subir)\n",
    "display(progress)\n",
    "display(output)\n",
    "display(widgets.HTML(\"<h3>🛒 Maestro y Análisis Exploratorio</h3>\"))\n",
    "display(widgets.HBox([btn_generar_maestro, btn_calcular_top]))\n",
    "display(maestro_output)\n"
   ]
  }
 ],
 "metadata": {
  "kernelspec": {
   "display_name": "Python 3",
   "language": "python",
   "name": "python3"
  },
  "language_info": {
   "codemirror_mode": {
    "name": "ipython",
    "version": 3
   },
   "file_extension": ".py",
   "mimetype": "text/x-python",
   "name": "python",
   "nbconvert_exporter": "python",
   "pygments_lexer": "ipython3",
   "version": "3.13.5"
  }
 },
 "nbformat": 4,
 "nbformat_minor": 2
}
